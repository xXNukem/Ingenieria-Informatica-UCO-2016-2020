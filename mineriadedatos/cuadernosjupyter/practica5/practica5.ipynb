{
 "cells": [
  {
   "cell_type": "markdown",
   "metadata": {},
   "source": [
    "<b>Ejercicio 1 y 2: </b></br>\n",
    "<ul>\n",
    "    <li>Seleccione un algoritmo clasificación de los disponibles en scikit que sea capaz de resolver problemas de más de dos clases y al menos 10 conjuntos de datos de más de 2 clases (puede reusar los de prácticas anteriores).\n",
    "    <li>Aplique el clasificador base a cada uno de los conjuntos y anote los resultados obtenidos\n",
    "</ul>"
   ]
  },
  {
   "cell_type": "code",
   "execution_count": 13,
   "metadata": {},
   "outputs": [
    {
     "name": "stdout",
     "output_type": "stream",
     "text": [
      "CLASIFICADOR BASE LINEARSVC\n",
      "Base de datos: contact-lenses.arff\n",
      "Porcentaje de bien clasificados:  0.7\n",
      "Base de datos: cpu.arff\n",
      "Porcentaje de bien clasificados:  0.0\n",
      "Base de datos: diabetes.arff\n",
      "Porcentaje de bien clasificados:  0.5422077922077922\n",
      "Base de datos: glass.arff\n",
      "Porcentaje de bien clasificados:  0.6046511627906976\n",
      "Base de datos: ionosphere.arff\n",
      "Porcentaje de bien clasificados:  0.8936170212765957\n",
      "Base de datos: iris.arff\n",
      "Porcentaje de bien clasificados:  0.9833333333333333\n",
      "Base de datos: more_iris.arff\n",
      "Porcentaje de bien clasificados:  0.95\n",
      "Base de datos: segment-challenge.arff\n",
      "Porcentaje de bien clasificados:  0.9116666666666666\n",
      "Base de datos: segment-test.arff\n",
      "Porcentaje de bien clasificados:  0.8858024691358025\n",
      "Base de datos: weather.arff\n",
      "Porcentaje de bien clasificados:  0.6666666666666666\n",
      "--------------------------\n"
     ]
    }
   ],
   "source": [
    "from scipy.io import arff\n",
    "from sklearn.model_selection import train_test_split\n",
    "from sklearn.neighbors import KNeighborsClassifier\n",
    "import pandas as pd\n",
    "from os import listdir\n",
    "from sklearn.svm import LinearSVC\n",
    "from sklearn.gaussian_process import GaussianProcessClassifier\n",
    "from sklearn.gaussian_process.kernels import RBF\n",
    "from sklearn.multiclass import OutputCodeClassifier\n",
    "import warnings\n",
    "warnings.filterwarnings('ignore')\n",
    "\n",
    "#ejecutar con python2.7\n",
    "\n",
    "datasets=listdir('./datasets')\n",
    "\n",
    "print('CLASIFICADOR BASE LINEARSVC')\n",
    "for i in datasets:\n",
    "\n",
    "    print('Base de datos: ' + str(i))\n",
    "    dataset = arff.loadarff('./datasets/' + str(i))\n",
    "    df = pd.DataFrame(dataset[0])\n",
    "    data = df.iloc[:, df.columns != 'class']\n",
    "    target = pd.factorize(df['class'])[0]\n",
    "    X_train, X_test, Y_train, Y_test = train_test_split(data, target, test_size=0.4)\n",
    "\n",
    "    # llamada y entrenamiento algoritmo SVM\n",
    "    svc= LinearSVC(random_state=0, tol=1e-5,max_iter=9999, multi_class='ovr')\n",
    "    svc.fit(X_train, Y_train)\n",
    "    print('Porcentaje de bien clasificados: ', svc.score(X_test,Y_test))\n",
    "\n",
    "print('--------------------------')"
   ]
  },
  {
   "cell_type": "markdown",
   "metadata": {},
   "source": [
    "<b>Respuesta: </b></br>\n",
    "El clasificador elegido ha sido el LinearSVC, este es un clasificador similar al SVC Linear pero implementado en términos 'liblinear'. Así que tendrá mucha más flexibilidad con las penalizaciones y las funciones de pérdida, escalando mejor en mayores cantidades de muestras. </br>\n",
    "\n",
    "El atributo 'multiclass' se ha establecido en 'ovr', así el método utilizado será el de 'one vs rest'. Los resultados no son siempre tan buenos, con lo que habrá que probar el resto de métodos multiclase que se piden y comprobar la diferencia. </b>\n",
    "\n",
    "Se aprecia mayor tiempo de cómputo en los datasets más extensos, algo que sucedía en menor medida con los métodos anteriores"
   ]
  },
  {
   "cell_type": "markdown",
   "metadata": {},
   "source": [
    "<b>Ejercicio 3: </b></br>\n",
    "Aplique los métodos multiclase one-vs.-one (OVO), one-vs.all (OVA) y error correcting output codes (ECOC) a cada uno de los conjuntos de datos y anote los resultados obtenidos."
   ]
  },
  {
   "cell_type": "markdown",
   "metadata": {},
   "source": [
    "<b>Respuesta: </b></br>\n",
    "En primer lugar, se escogió el algoritmo 'GaussianProcessClassifier' que se puede utilizar tanto en modo 'one-vs-one' como en modo 'one-vs-all' (también conocido como 'one-vs-rest').</br>\n",
    "\n",
    "Primero se muestra el modo 'one-vs-one'."
   ]
  },
  {
   "cell_type": "code",
   "execution_count": 12,
   "metadata": {},
   "outputs": [
    {
     "name": "stdout",
     "output_type": "stream",
     "text": [
      "Aplicando metodo multiclase ONE VS ONE GAUSSIAN PROCESS CLASSIFIER\n",
      "Base de datos: contact-lenses.arff\n",
      "Porcentaje de bien clasificados:  0.9\n",
      "Base de datos: cpu.arff\n",
      "Porcentaje de bien clasificados:  0.011904761904761904\n",
      "Base de datos: diabetes.arff\n",
      "Porcentaje de bien clasificados:  0.7532467532467533\n",
      "Base de datos: glass.arff\n",
      "Porcentaje de bien clasificados:  0.7209302325581395\n",
      "Base de datos: ionosphere.arff\n",
      "Porcentaje de bien clasificados:  0.9148936170212766\n",
      "Base de datos: iris.arff\n",
      "Porcentaje de bien clasificados:  0.9666666666666667\n",
      "Base de datos: more_iris.arff\n",
      "Porcentaje de bien clasificados:  0.9333333333333333\n",
      "Base de datos: segment-challenge.arff\n",
      "Porcentaje de bien clasificados:  0.9733333333333334\n",
      "Base de datos: segment-test.arff\n",
      "Porcentaje de bien clasificados:  0.9382716049382716\n",
      "Base de datos: weather.arff\n",
      "Porcentaje de bien clasificados:  0.3333333333333333\n"
     ]
    }
   ],
   "source": [
    "from scipy.io import arff\n",
    "from sklearn.model_selection import train_test_split\n",
    "from sklearn.neighbors import KNeighborsClassifier\n",
    "import pandas as pd\n",
    "from os import listdir\n",
    "from sklearn.svm import LinearSVC\n",
    "from sklearn.gaussian_process import GaussianProcessClassifier\n",
    "from sklearn.gaussian_process.kernels import RBF\n",
    "from sklearn.multiclass import OutputCodeClassifier\n",
    "import warnings\n",
    "warnings.filterwarnings('ignore')\n",
    "\n",
    "#ejecutar con python2.7\n",
    "\n",
    "datasets=listdir('./datasets')\n",
    "\n",
    "print('Aplicando metodo multiclase ONE VS ONE GAUSSIAN PROCESS CLASSIFIER')\n",
    "\n",
    "for i in datasets:\n",
    "\n",
    "    print('Base de datos: ' + str(i))\n",
    "    dataset = arff.loadarff('./datasets/' + str(i))\n",
    "    df = pd.DataFrame(dataset[0])\n",
    "    data = df.iloc[:, df.columns != 'class']\n",
    "    target = pd.factorize(df['class'])[0]\n",
    "    X_train, X_test, Y_train, Y_test = train_test_split(data, target, test_size=0.4)\n",
    "\n",
    "    kernel = 1.0 * RBF(1.0)\n",
    "    gpc = GaussianProcessClassifier(kernel=kernel, random_state=0, multi_class = 'one_vs_one')\n",
    "    gpc.fit(X_train,Y_train)\n",
    "    print('Porcentaje de bien clasificados: ',gpc.score(X_test,Y_test))"
   ]
  },
  {
   "cell_type": "markdown",
   "metadata": {},
   "source": [
    "<b>Respuesta: </b></br>\n",
    "Ahora se mostrará con el modo 'one-vs-all'"
   ]
  },
  {
   "cell_type": "code",
   "execution_count": 11,
   "metadata": {},
   "outputs": [
    {
     "name": "stdout",
     "output_type": "stream",
     "text": [
      "Aplicando metodo multiclase ONE VS ONE GAUSSIAN PROCESS CLASSIFIER\n",
      "Base de datos: contact-lenses.arff\n",
      "Porcentaje de bien clasificados:  0.7\n",
      "Base de datos: cpu.arff\n",
      "Porcentaje de bien clasificados:  0.0\n",
      "Base de datos: diabetes.arff\n",
      "Porcentaje de bien clasificados:  0.6428571428571429\n",
      "Base de datos: glass.arff\n",
      "Porcentaje de bien clasificados:  0.6744186046511628\n",
      "Base de datos: ionosphere.arff\n",
      "Porcentaje de bien clasificados:  0.9078014184397163\n",
      "Base de datos: iris.arff\n",
      "Porcentaje de bien clasificados:  0.9333333333333333\n",
      "Base de datos: more_iris.arff\n",
      "Porcentaje de bien clasificados:  0.95\n",
      "Base de datos: segment-challenge.arff\n",
      "Porcentaje de bien clasificados:  0.955\n",
      "Base de datos: segment-test.arff\n",
      "Porcentaje de bien clasificados:  0.9475308641975309\n",
      "Base de datos: weather.arff\n",
      "Porcentaje de bien clasificados:  0.3333333333333333\n"
     ]
    }
   ],
   "source": [
    "from scipy.io import arff\n",
    "from sklearn.model_selection import train_test_split\n",
    "from sklearn.neighbors import KNeighborsClassifier\n",
    "import pandas as pd\n",
    "from os import listdir\n",
    "from sklearn.svm import LinearSVC\n",
    "from sklearn.gaussian_process import GaussianProcessClassifier\n",
    "from sklearn.gaussian_process.kernels import RBF\n",
    "from sklearn.multiclass import OutputCodeClassifier\n",
    "import warnings\n",
    "warnings.filterwarnings('ignore')\n",
    "\n",
    "#ejecutar con python2.7\n",
    "\n",
    "datasets=listdir('./datasets')\n",
    "\n",
    "print('Aplicando metodo multiclase ONE VS ONE GAUSSIAN PROCESS CLASSIFIER')\n",
    "\n",
    "for i in datasets:\n",
    "\n",
    "    print('Base de datos: ' + str(i))\n",
    "    dataset = arff.loadarff('./datasets/' + str(i))\n",
    "    df = pd.DataFrame(dataset[0])\n",
    "    data = df.iloc[:, df.columns != 'class']\n",
    "    target = pd.factorize(df['class'])[0]\n",
    "    X_train, X_test, Y_train, Y_test = train_test_split(data, target, test_size=0.4)\n",
    "\n",
    "    kernel = 1.0 * RBF(1.0)\n",
    "    gpc = GaussianProcessClassifier(kernel=kernel, random_state=0, multi_class = 'one_vs_rest')\n",
    "    gpc.fit(X_train,Y_train)\n",
    "    print('Porcentaje de bien clasificados: ',gpc.score(X_test,Y_test))"
   ]
  },
  {
   "cell_type": "markdown",
   "metadata": {},
   "source": [
    "<b>Respuesta: </b></br>\n",
    "Acabamos de realizar una clasificación Gaussiana basada en la aproximación de la Laplace. Esta última se utiliza internamente para aproximar el posterior no gaussiano por un gaussiano. Para clasificar varias clases, se ajustarán varios clasificadores binarios en el modo que se le especifique: One-vs-all o one-vs-one. A continuacion se comentarán estos métodos:\n",
    "<ul>\n",
    "    <li><b>One-vs-rest: </b>Se ajusta cada clasificador de proceso gaussiano para cada clase. Dicha clase será separada del resto.\n",
    "    <li><b>One-vs-one: </b>Se ajusta cada clasificador de proceso gaussiano para cada par de clases. Estas dos clases se separarán del resto. Este método no admitirá la predicción de estimaciones de probabilidad.\n",
    "</ul>\n",
    "\n",
    "Debido a esta forma de manejar la multiclase, se aprecia una mejora en las puntuaciones con respecto al método base, ya que por ejemplo, en el caso del dataset 'daibetes' se incrementa la puntuación en un 20% con one-vs-one y un 10% con one-vs-rest. En cambio, en datasets pequeños como 'weather' la puntuación disminuye.</br>\n",
    "También ha incrementado significativamente el tiempo de cómputo con respecto al método base en los datasets más grandes, aunque dado que hay puntuaciones que incrementan, podría merecer la pena utilizar estos métodos en según qué casos."
   ]
  },
  {
   "cell_type": "markdown",
   "metadata": {},
   "source": [
    "<b>Respuesta: </b></br>\n",
    "Por último se empleará el método Error Correcting Output Codes (ECOC)"
   ]
  },
  {
   "cell_type": "code",
   "execution_count": 21,
   "metadata": {},
   "outputs": [
    {
     "name": "stdout",
     "output_type": "stream",
     "text": [
      "Aplicando metodo multiclase ERROR CORRECTING OUTPUT CODES\n",
      "Base de datos: contact-lenses.arff\n",
      "Porcentaje de bien clasificados:  0.6\n",
      "Base de datos: cpu.arff\n",
      "Porcentaje de bien clasificados:  0.011904761904761904\n",
      "Base de datos: diabetes.arff\n",
      "Porcentaje de bien clasificados:  0.6915584415584416\n",
      "Base de datos: glass.arff\n",
      "Porcentaje de bien clasificados:  0.6162790697674418\n",
      "Base de datos: ionosphere.arff\n",
      "Porcentaje de bien clasificados:  0.8085106382978723\n",
      "Base de datos: iris.arff\n",
      "Porcentaje de bien clasificados:  0.95\n",
      "Base de datos: more_iris.arff\n",
      "Porcentaje de bien clasificados:  0.95\n",
      "Base de datos: segment-challenge.arff\n",
      "Porcentaje de bien clasificados:  0.9066666666666666\n",
      "Base de datos: segment-test.arff\n",
      "Porcentaje de bien clasificados:  0.904320987654321\n",
      "Base de datos: weather.arff\n",
      "Porcentaje de bien clasificados:  0.6666666666666666\n"
     ]
    }
   ],
   "source": [
    "from scipy.io import arff\n",
    "from sklearn.model_selection import train_test_split\n",
    "from sklearn.neighbors import KNeighborsClassifier\n",
    "import pandas as pd\n",
    "from os import listdir\n",
    "from sklearn.svm import LinearSVC\n",
    "from sklearn.gaussian_process import GaussianProcessClassifier\n",
    "from sklearn.gaussian_process.kernels import RBF\n",
    "from sklearn.multiclass import OutputCodeClassifier\n",
    "import warnings\n",
    "warnings.filterwarnings('ignore')\n",
    "\n",
    "#ejecutar con python2.7\n",
    "\n",
    "datasets=listdir('./datasets')\n",
    "\n",
    "print('Aplicando metodo multiclase ERROR CORRECTING OUTPUT CODES')\n",
    "\n",
    "for i in datasets:\n",
    "\n",
    "    print('Base de datos: ' + str(i))\n",
    "    dataset = arff.loadarff('./datasets/' + str(i))\n",
    "    df = pd.DataFrame(dataset[0])\n",
    "    data = df.iloc[:, df.columns != 'class']\n",
    "    target = pd.factorize(df['class'])[0]\n",
    "    X_train, X_test, Y_train, Y_test = train_test_split(data, target, test_size=0.4)\n",
    "\n",
    "    clf = OutputCodeClassifier(KNeighborsClassifier(n_neighbors=5), code_size = 4, random_state = 0)\n",
    "    clf.fit(X_train, Y_train)\n",
    "    print('Porcentaje de bien clasificados: ',clf.score(X_test,Y_test))"
   ]
  },
  {
   "cell_type": "markdown",
   "metadata": {},
   "source": [
    "<b>Respuesta: </b></br>\n",
    "Con este método se representa cada clase con un código binaro en una matriz de 0 y 1. Se ajustará un clasificador binario por bit en el 'libro de códigos' y en el momento de la predicción, los clasificadores proyectarán nuevos puntos en el espacio de clase eligidiendo la clase más cercana a los puntos.</br>\n",
    "\n",
    "El modelo utiliza un clasificador base que en este experimento ha sido el KNN. Utilizaremos el atributo 'code_size' para determinar el porcentaje del número de clases que se utilizarán para crear el libro de códigos. Es importante probar este parámetro para ajustarlo lo mejor posible al modelo, ya que podría provocar sobre-entrenamiento. </br>\n",
    "\n",
    "Con respecto a los resultados son bastante similares a los anteriores, además de tener un tiempo de cómputo menor."
   ]
  },
  {
   "cell_type": "markdown",
   "metadata": {},
   "source": [
    "<b>Ejercicio 5: </b></br>\n",
    "Compare si hay diferencias significativas entre ellos usando el test de Iman-Davenport. Si es así, aplique el\n",
    "procedimiento de Wilcoxon para comparar cada método multiclase con el clasificador base y los diferentes\n",
    "métodos entre ellos."
   ]
  },
  {
   "cell_type": "code",
   "execution_count": null,
   "metadata": {},
   "outputs": [],
   "source": []
  },
  {
   "cell_type": "markdown",
   "metadata": {},
   "source": []
  },
  {
   "cell_type": "markdown",
   "metadata": {},
   "source": [
    "<b>Ejercicio 7: </b></br>\n",
    "Enuncie las conclusiones del estudio"
   ]
  },
  {
   "cell_type": "markdown",
   "metadata": {},
   "source": []
  }
 ],
 "metadata": {
  "kernelspec": {
   "display_name": "Python 3",
   "language": "python",
   "name": "python3"
  },
  "language_info": {
   "codemirror_mode": {
    "name": "ipython",
    "version": 3
   },
   "file_extension": ".py",
   "mimetype": "text/x-python",
   "name": "python",
   "nbconvert_exporter": "python",
   "pygments_lexer": "ipython3",
   "version": "3.7.4"
  }
 },
 "nbformat": 4,
 "nbformat_minor": 4
}
