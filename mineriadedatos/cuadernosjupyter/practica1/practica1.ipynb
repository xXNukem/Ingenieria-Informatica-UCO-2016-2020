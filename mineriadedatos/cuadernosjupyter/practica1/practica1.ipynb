{
 "cells": [
  {
   "cell_type": "markdown",
   "metadata": {},
   "source": [
    "<h1>PRACTICA 1<\\h1>"
   ]
  },
  {
   "cell_type": "markdown",
   "metadata": {},
   "source": [
    "<b>Ejercicio 1: Implemente mediante un programa Python la asignación del reparto de escaños de una circunscripción electoral usando la Ley D’Hondt. Los datos se pueden introducir por teclado o leerse desde un fichero."
   ]
  },
  {
   "cell_type": "code",
   "execution_count": 4,
   "metadata": {},
   "outputs": [
    {
     "name": "stdin",
     "output_type": "stream",
     "text": [
      "Cuantos escaños se reparten? 3\n",
      "Cuantos partidos se presenta? 2\n"
     ]
    },
    {
     "name": "stdout",
     "output_type": "stream",
     "text": [
      "Datos del partido\n"
     ]
    },
    {
     "name": "stdin",
     "output_type": "stream",
     "text": [
      "Nombre:  nasis de andorra\n",
      "Votos:  12\n"
     ]
    },
    {
     "name": "stdout",
     "output_type": "stream",
     "text": [
      "\n",
      "\n",
      "Datos del partido\n"
     ]
    },
    {
     "name": "stdin",
     "output_type": "stream",
     "text": [
      "Nombre:  populist front\n",
      "Votos:  123\n"
     ]
    },
    {
     "name": "stdout",
     "output_type": "stream",
     "text": [
      "\n",
      "\n",
      "nasis de andorra  votos->  12  escaños->  0\n",
      "populist front  votos->  123  escaños->  3\n"
     ]
    }
   ],
   "source": [
    "import numpy as np\n",
    "import sys\n",
    "\n",
    "esc=int(input('Cuantos escaños se reparten?'))\n",
    "nPart=int(input('Cuantos partidos se presenta?'))\n",
    "\n",
    "listaPartidos=[]\n",
    "\n",
    "for i in range(0,nPart):\n",
    "    partido=dict()\n",
    "    print('Datos del partido')\n",
    "    partido['nombre']=input('Nombre: ')\n",
    "    partido['votos']=int(input('Votos: '))\n",
    "    partido['escanyo']=0\n",
    "    \n",
    "    listaPartidos.append(partido)\n",
    "    print('\\n')\n",
    "    \n",
    "matrix=np.zeros(shape=(nPart,esc))\n",
    "\n",
    "for i in range(0,nPart):\n",
    "    for j in range (0,esc):\n",
    "        matrix[i][j]=listaPartidos[i]['votos']/(j+1)\n",
    "        \n",
    "repartoEsc=0\n",
    "\n",
    "while repartoEsc < esc:\n",
    "    location= np.where(matrix==np.max(matrix))\n",
    "    matrix[location[0][0]][location[1][0]] = -1\n",
    "    listaPartidos [location [0][0]]['escanyo'] +=1\n",
    "    \n",
    "    repartoEsc+=1\n",
    "    \n",
    "for i in range(0, nPart):\n",
    "    print(listaPartidos[i]['nombre'],' votos-> ',listaPartidos[i]['votos'], ' escaños-> ',listaPartidos[i]['escanyo'])"
   ]
  },
  {
   "cell_type": "markdown",
   "metadata": {},
   "source": [
    "<b>Ejercicio 2: Implemente un programa Python que genere aleatoriamente una matriz de valores reales de un tamaño indicado\n",
    "por teclado. Sobre la matriz generada realice las siguientes operaciones:\n",
    "    <ul>\n",
    "         <li>Obtenga los valores máximos y mínimos de la matriz.\n",
    "         <li>Use el producto escalar para obtener el ángulo formado por dos vectores fila o columna solicitados por\n",
    "teclado\n",
    "    "
   ]
  },
  {
   "cell_type": "code",
   "execution_count": 8,
   "metadata": {},
   "outputs": [
    {
     "name": "stdout",
     "output_type": "stream",
     "text": [
      "Introduce el numero de filas\n"
     ]
    },
    {
     "name": "stdin",
     "output_type": "stream",
     "text": [
      " 3\n"
     ]
    },
    {
     "name": "stdout",
     "output_type": "stream",
     "text": [
      "Introduce el numero de columnas\n"
     ]
    },
    {
     "name": "stdin",
     "output_type": "stream",
     "text": [
      " 3\n"
     ]
    },
    {
     "name": "stdout",
     "output_type": "stream",
     "text": [
      "Generando matriz...\n",
      "[[40. 41. 21.]\n",
      " [48. 17. 42.]\n",
      " [21. 31. 38.]]\n",
      "Obteniendo valores\n",
      "El valor minimo de la matriz es:  17.0\n",
      "El valor maximo de la matriz es:  48.0\n",
      "Producto escalar, introduce la cordenada de los dos vectores:\n",
      "Introduce f para vector de fila o c para vector de columna \n"
     ]
    },
    {
     "name": "stdin",
     "output_type": "stream",
     "text": [
      " f\n"
     ]
    },
    {
     "name": "stdout",
     "output_type": "stream",
     "text": [
      "Introduce la fila de la que extraes el vector\n"
     ]
    },
    {
     "name": "stdin",
     "output_type": "stream",
     "text": [
      " 2\n"
     ]
    },
    {
     "name": "stdout",
     "output_type": "stream",
     "text": [
      "Producto escalar, introduce la cordenada de los dos vectores:\n",
      "Introduce f para vector de fila o c para vector de columna \n"
     ]
    },
    {
     "name": "stdin",
     "output_type": "stream",
     "text": [
      " c\n"
     ]
    },
    {
     "name": "stdout",
     "output_type": "stream",
     "text": [
      "Introduce la columna de la que extraes el vector\n"
     ]
    },
    {
     "name": "stdin",
     "output_type": "stream",
     "text": [
      " 1\n"
     ]
    },
    {
     "name": "stdout",
     "output_type": "stream",
     "text": [
      "Obteniendo el angulo de los vectores seleccionados\n",
      "Coseno del angulo:  27.321317104625823\n"
     ]
    }
   ],
   "source": [
    "import numpy as np\n",
    "import math as mat\n",
    "\n",
    "print('Introduce el numero de filas')\n",
    "filas = int(input())\n",
    "\n",
    "print('Introduce el numero de columnas')\n",
    "columnas = int(input())\n",
    "\n",
    "print('Generando matriz...')\n",
    "\n",
    "m = np.zeros((filas, columnas))\n",
    "a = np.arange(10, 50)\n",
    "\n",
    "for i in range(filas):\n",
    "    for j in range(columnas):\n",
    "        m[i][j] = np.random.choice(a)\n",
    "\n",
    "print(m)\n",
    "\n",
    "print('Obteniendo valores')\n",
    "\n",
    "print('El valor minimo de la matriz es: ', np.min(m))\n",
    "\n",
    "print('El valor maximo de la matriz es: ', np.max(m))\n",
    "\n",
    "a = []\n",
    "\n",
    "for i in range(2):\n",
    "    print('Producto escalar, introduce la cordenada de los dos vectores:')\n",
    "    print('Introduce f para vector de fila o c para vector de columna ')\n",
    "    opc = input()\n",
    "\n",
    "    if opc == \"f\":\n",
    "        print('Introduce la fila de la que extraes el vector')\n",
    "        fila = int(input())\n",
    "        if filas >= fila >= 0:\n",
    "            a.append(m[fila, :])\n",
    "    elif opc == \"c\":\n",
    "        print('Introduce la columna de la que extraes el vector')\n",
    "        col = int(input())\n",
    "        if columnas >= col >= 0:\n",
    "            a.append(m[:, col])\n",
    "    else:\n",
    "        print('Opcion invalida, por defecto se elige un vector columna')\n",
    "        col = int(input())\n",
    "        if columnas >= col >= 0:\n",
    "            a.appendm(m[:, col])\n",
    "\n",
    "print('Obteniendo el angulo de los vectores seleccionados')\n",
    "\n",
    "escalar = np.dot(a[0], a[1])\n",
    "norma1=np.linalg.norm(a[0])\n",
    "norma2=np.linalg.norm(a[1])\n",
    "angulo=(np.arccos(escalar/(norma1*norma2)))*180/mat.pi\n",
    "\n",
    "print('Coseno del angulo: ', angulo)"
   ]
  },
  {
   "cell_type": "markdown",
   "metadata": {},
   "source": [
    "<b>Ejercicio 3: Implemente un programa Python que lea una matriz de número reales desde teclado de una dimensión dada. Apartir de la matriz leída debe calcular la siguiente información:\n",
    "    <ul>\n",
    "        <li> Máximo por filas y columnas.\n",
    "        <li> Determinante de la matriz.\n",
    "        <li> * Rango de la matriz."
   ]
  },
  {
   "cell_type": "code",
   "execution_count": 9,
   "metadata": {},
   "outputs": [
    {
     "name": "stdout",
     "output_type": "stream",
     "text": [
      "Introduce el numero de filas\n"
     ]
    },
    {
     "name": "stdin",
     "output_type": "stream",
     "text": [
      " 3\n"
     ]
    },
    {
     "name": "stdout",
     "output_type": "stream",
     "text": [
      "Introduce el numero de columnas\n"
     ]
    },
    {
     "name": "stdin",
     "output_type": "stream",
     "text": [
      " 3\n"
     ]
    },
    {
     "name": "stdout",
     "output_type": "stream",
     "text": [
      "Escribe la matriz por teclado\n"
     ]
    },
    {
     "name": "stdin",
     "output_type": "stream",
     "text": [
      " 6\n",
      " 4\n",
      " 3\n",
      " 5\n",
      " 6\n",
      " 2\n",
      " 3\n",
      " 4\n",
      " 5\n"
     ]
    },
    {
     "name": "stdout",
     "output_type": "stream",
     "text": [
      "[[6. 4. 3.]\n",
      " [5. 6. 2.]\n",
      " [3. 4. 5.]]\n",
      "Mostrando maximos de cada fila\n",
      "El maximo de la fila 0 es:  6.0\n",
      "El maximo de la fila 1 es:  6.0\n",
      "El maximo de la fila 2 es:  5.0\n",
      "Mostrando minimos de cada fila\n",
      "El minimo de la fila 0 es: 3.0\n",
      "El minimo de la fila 1 es: 2.0\n",
      "El minimo de la fila 2 es: 3.0\n",
      "Mostrando maximos de cada columna\n",
      "El maximo de la columna 0 es:  6.0\n",
      "El maximo de la columna 1 es:  6.0\n",
      "El maximo de la columna 2 es:  5.0\n",
      "Mostrando minimos de cada columna\n",
      "El minimo de la columna 0 es: 3.0\n",
      "El minimo de la columna 1 es: 4.0\n",
      "El minimo de la columna 2 es: 2.0\n",
      "Calculando determinante de la matriz\n",
      "Resultado:  62.0\n",
      "Rango de la matriz: 3\n"
     ]
    }
   ],
   "source": [
    "import numpy as np\n",
    "\n",
    "print('Introduce el numero de filas')\n",
    "filas = int(input())\n",
    "\n",
    "print('Introduce el numero de columnas')\n",
    "columnas = int(input())\n",
    "\n",
    "print('Escribe la matriz por teclado')\n",
    "m = np.zeros((filas, columnas))\n",
    "\n",
    "for i in range(filas):\n",
    "    for j in range(columnas):\n",
    "        m[i][j]=float(input())\n",
    "print(m)\n",
    "\n",
    "print('Mostrando maximos de cada fila')\n",
    "\n",
    "for i in range(filas):\n",
    "    vector=m[i, :]\n",
    "    max=np.max(vector)\n",
    "    print('El maximo de la fila', i, 'es: ',max)\n",
    "\n",
    "print('Mostrando minimos de cada fila')\n",
    "\n",
    "for i in range(filas):\n",
    "    vector=m[i,:]\n",
    "    min=np.min(vector)\n",
    "    print('El minimo de la fila',i,'es:',min)\n",
    "\n",
    "print('Mostrando maximos de cada columna')\n",
    "\n",
    "for i in range(columnas):\n",
    "    vector=m[:, i]\n",
    "    max=np.max(vector)\n",
    "    print('El maximo de la columna', i, 'es: ',max)\n",
    "\n",
    "print('Mostrando minimos de cada columna')\n",
    "\n",
    "for i in range(columnas):\n",
    "    vector=m[:,i]\n",
    "    min=np.min(vector)\n",
    "    print('El minimo de la columna',i,'es:',min)\n",
    "\n",
    "if filas==columnas:\n",
    "    print('Calculando determinante de la matriz')\n",
    "    determinante = np.linalg.det(m)\n",
    "    print('Resultado: ', round(determinante))\n",
    "else:\n",
    "    print('Para calcular el determinante el numero de filas y columnas deben ser iguales')\n",
    "\n",
    "print('Rango de la matriz: '+str(np.linalg.matrix_rank(m)))"
   ]
  },
  {
   "cell_type": "markdown",
   "metadata": {},
   "source": [
    "<b>Ejercicio 4: Implemente un programa Python que lea una matriz de número enteros desde teclado de una dimensión dada. A\n",
    "partir de la matriz leída debe calcular la siguiente información:\n",
    "    <ul>\n",
    "        <li>Moda de la matriz.\n",
    "        <li>Media de todos los elementos de la matriz."
   ]
  },
  {
   "cell_type": "code",
   "execution_count": 1,
   "metadata": {},
   "outputs": [
    {
     "name": "stdout",
     "output_type": "stream",
     "text": [
      "Introduce el numero de filas\n",
      "3\n",
      "Introduce el numero de columnas\n",
      "3\n",
      "Escribe la matriz por teclado\n",
      "5\n",
      "6\n",
      "32\n",
      "12\n",
      "5\n",
      "4\n",
      "8\n",
      "7\n",
      "5\n",
      "[[ 5.  6. 32.]\n",
      " [12.  5.  4.]\n",
      " [ 8.  7.  5.]]\n",
      "La media de los elementos de la matriz es :\n",
      "Resultado:  9.333333333333334\n",
      "La moda de los elementos de la matriz es :\n",
      "Resultado:  5.0\n"
     ]
    }
   ],
   "source": [
    "import numpy as np\n",
    "from scipy import stats\n",
    "\n",
    "print('Introduce el numero de filas')\n",
    "filas = int(input())\n",
    "\n",
    "print('Introduce el numero de columnas')\n",
    "columnas = int(input())\n",
    "\n",
    "print('Escribe la matriz por teclado')\n",
    "m = np.zeros((filas, columnas))\n",
    "\n",
    "for i in range(filas):\n",
    "    for j in range(columnas):\n",
    "        m[i][j]=int(input())\n",
    "print(m)\n",
    "\n",
    "print('La media de los elementos de la matriz es :')\n",
    "media=np.average(m)\n",
    "print('Resultado: ',media)\n",
    "\n",
    "print('La moda de los elementos de la matriz es :')\n",
    "a=[]\n",
    "for i in range(filas):\n",
    "    for j in range(columnas):\n",
    "        a.append(m[i][j])\n",
    "moda=stats.mode(a)\n",
    "print('Resultado: ', moda[0][0])"
   ]
  },
  {
   "cell_type": "markdown",
   "metadata": {},
   "source": [
    "<b>Ejercicio 5: Implemente un programa Python que lea una matriz de número reales desde un fichero texto con formato libre. Una vez leído el programa debe obtener la inversa de la matriz y realizar un producto matricial para comprobar que el cálculo de la inversa es correcto."
   ]
  },
  {
   "cell_type": "code",
   "execution_count": 2,
   "metadata": {},
   "outputs": [
    {
     "name": "stdout",
     "output_type": "stream",
     "text": [
      "Matriz leida del fichero: \n",
      "[[ 1. -1.  2.]\n",
      " [-2.  0.  4.]\n",
      " [ 0. -2.  7.]]\n",
      "Matriz inversa \n",
      "[[ 4.   1.5 -2. ]\n",
      " [ 7.   3.5 -4. ]\n",
      " [ 2.   1.  -1. ]]\n",
      "Producto matricial\n",
      "[[1. 0. 0.]\n",
      " [0. 1. 0.]\n",
      " [0. 0. 1.]]\n",
      "Es correcto\n"
     ]
    }
   ],
   "source": [
    "import numpy as np\n",
    "\n",
    "m=np.loadtxt(\"fichero.txt\", delimiter=' ')\n",
    "\n",
    "print('Matriz leida del fichero: ')\n",
    "print(m)\n",
    "\n",
    "inv=np.linalg.inv(m)\n",
    "\n",
    "print('Matriz inversa ')\n",
    "\n",
    "print(inv)\n",
    "\n",
    "print('Producto matricial')\n",
    "\n",
    "prod=np.matmul(m,inv)\n",
    "print(prod)\n",
    "\n",
    "identidad=np.identity(np.size(m,1))\n",
    "if np.array_equal(identidad,prod)==True:\n",
    "    print('Es correcto')\n",
    "else:\n",
    "    print('No es correcto')"
   ]
  },
  {
   "cell_type": "code",
   "execution_count": null,
   "metadata": {},
   "outputs": [],
   "source": []
  }
 ],
 "metadata": {
  "kernelspec": {
   "display_name": "Python 3",
   "language": "python",
   "name": "python3"
  },
  "language_info": {
   "codemirror_mode": {
    "name": "ipython",
    "version": 3
   },
   "file_extension": ".py",
   "mimetype": "text/x-python",
   "name": "python",
   "nbconvert_exporter": "python",
   "pygments_lexer": "ipython3",
   "version": "3.7.4"
  }
 },
 "nbformat": 4,
 "nbformat_minor": 4
}
